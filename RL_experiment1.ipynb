{
  "nbformat": 4,
  "nbformat_minor": 0,
  "metadata": {
    "colab": {
      "provenance": []
    },
    "kernelspec": {
      "name": "python3",
      "display_name": "Python 3"
    },
    "language_info": {
      "name": "python"
    }
  },
  "cells": [
    {
      "cell_type": "code",
      "execution_count": null,
      "metadata": {
        "id": "Yo1wP-vTwakD"
      },
      "outputs": [],
      "source": [
        "import gym"
      ]
    },
    {
      "cell_type": "code",
      "source": [
        "!pip install --upgrade pip setuptools"
      ],
      "metadata": {
        "colab": {
          "base_uri": "https://localhost:8080/"
        },
        "id": "5MQ1bJiJzbzu",
        "outputId": "489d1e5d-2bcf-42f6-82a5-04f5cd86663f"
      },
      "execution_count": null,
      "outputs": [
        {
          "output_type": "stream",
          "name": "stdout",
          "text": [
            "Requirement already satisfied: pip in /usr/local/lib/python3.11/dist-packages (25.1.1)\n",
            "Requirement already satisfied: setuptools in /usr/local/lib/python3.11/dist-packages (80.7.1)\n"
          ]
        }
      ]
    },
    {
      "cell_type": "code",
      "source": [
        "!pip cache purge"
      ],
      "metadata": {
        "colab": {
          "base_uri": "https://localhost:8080/"
        },
        "id": "eZ7Zzxk9zcA2",
        "outputId": "814eca1e-52fa-4427-a512-7526116ca3c9"
      },
      "execution_count": null,
      "outputs": [
        {
          "output_type": "stream",
          "name": "stdout",
          "text": [
            "Files removed: 4 (227 kB)\n"
          ]
        }
      ]
    },
    {
      "cell_type": "code",
      "source": [
        "!pip install pygame==2.1.0"
      ],
      "metadata": {
        "colab": {
          "base_uri": "https://localhost:8080/"
        },
        "id": "MIjcostwzgUb",
        "outputId": "658c9b9d-6c11-423d-ec7e-fc6cd0554479"
      },
      "execution_count": null,
      "outputs": [
        {
          "output_type": "stream",
          "name": "stdout",
          "text": [
            "Collecting pygame==2.1.0\n",
            "  Downloading pygame-2.1.0.tar.gz (5.8 MB)\n",
            "\u001b[?25l     \u001b[90m━━━━━━━━━━━━━━━━━━━━━━━━━━━━━━━━━━━━━━━━\u001b[0m \u001b[32m0.0/5.8 MB\u001b[0m \u001b[31m?\u001b[0m eta \u001b[36m-:--:--\u001b[0m\r\u001b[2K     \u001b[90m━━━━━━━━━━━━━━━━━━━━━━━━━━━━━━━━━━━━━━━━\u001b[0m \u001b[32m5.8/5.8 MB\u001b[0m \u001b[31m99.2 MB/s\u001b[0m eta \u001b[36m0:00:00\u001b[0m\n",
            "\u001b[?25h  \u001b[1;31merror\u001b[0m: \u001b[1msubprocess-exited-with-error\u001b[0m\n",
            "  \n",
            "  \u001b[31m×\u001b[0m \u001b[32mpython setup.py egg_info\u001b[0m did not run successfully.\n",
            "  \u001b[31m│\u001b[0m exit code: \u001b[1;36m1\u001b[0m\n",
            "  \u001b[31m╰─>\u001b[0m See above for output.\n",
            "  \n",
            "  \u001b[1;35mnote\u001b[0m: This error originates from a subprocess, and is likely not a problem with pip.\n",
            "  Preparing metadata (setup.py) ... \u001b[?25l\u001b[?25herror\n",
            "\u001b[1;31merror\u001b[0m: \u001b[1mmetadata-generation-failed\u001b[0m\n",
            "\n",
            "\u001b[31m×\u001b[0m Encountered error while generating package metadata.\n",
            "\u001b[31m╰─>\u001b[0m See above for output.\n",
            "\n",
            "\u001b[1;35mnote\u001b[0m: This is an issue with the package mentioned above, not pip.\n",
            "\u001b[1;36mhint\u001b[0m: See above for details.\n"
          ]
        }
      ]
    },
    {
      "cell_type": "code",
      "source": [
        "!pip install gym"
      ],
      "metadata": {
        "colab": {
          "base_uri": "https://localhost:8080/"
        },
        "id": "_giENGzky_Eo",
        "outputId": "e84eaf0d-d4ab-495c-ee32-31f06df8acff"
      },
      "execution_count": null,
      "outputs": [
        {
          "output_type": "stream",
          "name": "stdout",
          "text": [
            "Requirement already satisfied: gym in /usr/local/lib/python3.11/dist-packages (0.25.2)\n",
            "Requirement already satisfied: numpy>=1.18.0 in /usr/local/lib/python3.11/dist-packages (from gym) (2.0.2)\n",
            "Requirement already satisfied: cloudpickle>=1.2.0 in /usr/local/lib/python3.11/dist-packages (from gym) (3.1.1)\n",
            "Requirement already satisfied: gym-notices>=0.0.4 in /usr/local/lib/python3.11/dist-packages (from gym) (0.0.8)\n"
          ]
        }
      ]
    },
    {
      "cell_type": "code",
      "source": [
        "!pip install --upgrade pip setuptools\n",
        "# %%\n",
        "!pip cache purge\n",
        "# %%\n",
        "!pip install pygame==2.1.0\n",
        "# %%\n",
        "!pip install gym[box2d]\n",
        "# %%\n",
        "env = gym.make(\"MountainCar-v0\")\n",
        "\n",
        "# %%\n",
        "env.render()\n",
        "# %%\n",
        "print(env.observation_space)\n",
        "# %%\n",
        "print(env.action_space)\n"
      ],
      "metadata": {
        "colab": {
          "base_uri": "https://localhost:8080/"
        },
        "id": "YgtEGPP4wtWA",
        "outputId": "2329f4f3-c75f-4774-bd7d-b298b6e371bc"
      },
      "execution_count": null,
      "outputs": [
        {
          "output_type": "stream",
          "name": "stdout",
          "text": [
            "Requirement already satisfied: pip in /usr/local/lib/python3.11/dist-packages (25.1.1)\n",
            "Requirement already satisfied: setuptools in /usr/local/lib/python3.11/dist-packages (80.7.1)\n",
            "Files removed: 12 (6.7 MB)\n",
            "Collecting pygame==2.1.0\n",
            "  Downloading pygame-2.1.0.tar.gz (5.8 MB)\n",
            "\u001b[2K     \u001b[90m━━━━━━━━━━━━━━━━━━━━━━━━━━━━━━━━━━━━━━━━\u001b[0m \u001b[32m5.8/5.8 MB\u001b[0m \u001b[31m100.5 MB/s\u001b[0m eta \u001b[36m0:00:00\u001b[0m\n",
            "\u001b[?25h  \u001b[1;31merror\u001b[0m: \u001b[1msubprocess-exited-with-error\u001b[0m\n",
            "  \n",
            "  \u001b[31m×\u001b[0m \u001b[32mpython setup.py egg_info\u001b[0m did not run successfully.\n",
            "  \u001b[31m│\u001b[0m exit code: \u001b[1;36m1\u001b[0m\n",
            "  \u001b[31m╰─>\u001b[0m See above for output.\n",
            "  \n",
            "  \u001b[1;35mnote\u001b[0m: This error originates from a subprocess, and is likely not a problem with pip.\n",
            "  Preparing metadata (setup.py) ... \u001b[?25l\u001b[?25herror\n",
            "\u001b[1;31merror\u001b[0m: \u001b[1mmetadata-generation-failed\u001b[0m\n",
            "\n",
            "\u001b[31m×\u001b[0m Encountered error while generating package metadata.\n",
            "\u001b[31m╰─>\u001b[0m See above for output.\n",
            "\n",
            "\u001b[1;35mnote\u001b[0m: This is an issue with the package mentioned above, not pip.\n",
            "\u001b[1;36mhint\u001b[0m: See above for details.\n"
          ]
        }
      ]
    },
    {
      "cell_type": "code",
      "source": [
        "env.render()"
      ],
      "metadata": {
        "id": "-afWUvr2wtYj"
      },
      "execution_count": null,
      "outputs": []
    },
    {
      "cell_type": "code",
      "source": [
        "print(env.observation_space)"
      ],
      "metadata": {
        "id": "gn2v-b98wtbo"
      },
      "execution_count": null,
      "outputs": []
    },
    {
      "cell_type": "code",
      "source": [
        "print(env.action_space)"
      ],
      "metadata": {
        "id": "UGn4LYxgwteb"
      },
      "execution_count": null,
      "outputs": []
    },
    {
      "cell_type": "code",
      "source": [
        "print(env.P[0][2])"
      ],
      "metadata": {
        "id": "oAYuyyRBwthj"
      },
      "execution_count": null,
      "outputs": []
    },
    {
      "cell_type": "code",
      "source": [
        "print(env.P[3][1])"
      ],
      "metadata": {
        "id": "laqtLLcvwtkb"
      },
      "execution_count": null,
      "outputs": []
    },
    {
      "cell_type": "code",
      "source": [
        "import gymnasium as gym\n",
        "env = gym.make(\"CarRacing-v3\", render_mode=\"rgb_array\", lap_complete_percent=0.95, domain_randomize=False, continuous=False)\n",
        "env"
      ],
      "metadata": {
        "colab": {
          "base_uri": "https://localhost:8080/",
          "height": 443
        },
        "id": "GUwJs4tywtnU",
        "outputId": "c17ba636-bdcc-4a8c-bc7d-260fea523ae2"
      },
      "execution_count": null,
      "outputs": [
        {
          "output_type": "error",
          "ename": "DependencyNotInstalled",
          "evalue": "Box2D is not installed, you can install it by run `pip install swig` followed by `pip install \"gymnasium[box2d]\"`",
          "traceback": [
            "\u001b[0;31m---------------------------------------------------------------------------\u001b[0m",
            "\u001b[0;31mModuleNotFoundError\u001b[0m                       Traceback (most recent call last)",
            "\u001b[0;32m/usr/local/lib/python3.11/dist-packages/gymnasium/envs/box2d/bipedal_walker.py\u001b[0m in \u001b[0;36m<module>\u001b[0;34m\u001b[0m\n\u001b[1;32m     14\u001b[0m \u001b[0;32mtry\u001b[0m\u001b[0;34m:\u001b[0m\u001b[0;34m\u001b[0m\u001b[0;34m\u001b[0m\u001b[0m\n\u001b[0;32m---> 15\u001b[0;31m     \u001b[0;32mimport\u001b[0m \u001b[0mBox2D\u001b[0m\u001b[0;34m\u001b[0m\u001b[0;34m\u001b[0m\u001b[0m\n\u001b[0m\u001b[1;32m     16\u001b[0m     from Box2D.b2 import (\n",
            "\u001b[0;31mModuleNotFoundError\u001b[0m: No module named 'Box2D'",
            "\nThe above exception was the direct cause of the following exception:\n",
            "\u001b[0;31mDependencyNotInstalled\u001b[0m                    Traceback (most recent call last)",
            "\u001b[0;32m<ipython-input-14-04cdb3641c97>\u001b[0m in \u001b[0;36m<cell line: 0>\u001b[0;34m()\u001b[0m\n\u001b[1;32m      1\u001b[0m \u001b[0;32mimport\u001b[0m \u001b[0mgymnasium\u001b[0m \u001b[0;32mas\u001b[0m \u001b[0mgym\u001b[0m\u001b[0;34m\u001b[0m\u001b[0;34m\u001b[0m\u001b[0m\n\u001b[0;32m----> 2\u001b[0;31m \u001b[0menv\u001b[0m \u001b[0;34m=\u001b[0m \u001b[0mgym\u001b[0m\u001b[0;34m.\u001b[0m\u001b[0mmake\u001b[0m\u001b[0;34m(\u001b[0m\u001b[0;34m\"CarRacing-v3\"\u001b[0m\u001b[0;34m,\u001b[0m \u001b[0mrender_mode\u001b[0m\u001b[0;34m=\u001b[0m\u001b[0;34m\"rgb_array\"\u001b[0m\u001b[0;34m,\u001b[0m \u001b[0mlap_complete_percent\u001b[0m\u001b[0;34m=\u001b[0m\u001b[0;36m0.95\u001b[0m\u001b[0;34m,\u001b[0m \u001b[0mdomain_randomize\u001b[0m\u001b[0;34m=\u001b[0m\u001b[0;32mFalse\u001b[0m\u001b[0;34m,\u001b[0m \u001b[0mcontinuous\u001b[0m\u001b[0;34m=\u001b[0m\u001b[0;32mFalse\u001b[0m\u001b[0;34m)\u001b[0m\u001b[0;34m\u001b[0m\u001b[0;34m\u001b[0m\u001b[0m\n\u001b[0m\u001b[1;32m      3\u001b[0m \u001b[0menv\u001b[0m\u001b[0;34m\u001b[0m\u001b[0;34m\u001b[0m\u001b[0m\n",
            "\u001b[0;32m/usr/local/lib/python3.11/dist-packages/gymnasium/envs/registration.py\u001b[0m in \u001b[0;36mmake\u001b[0;34m(id, max_episode_steps, disable_env_checker, **kwargs)\u001b[0m\n\u001b[1;32m    702\u001b[0m     \u001b[0;32melse\u001b[0m\u001b[0;34m:\u001b[0m\u001b[0;34m\u001b[0m\u001b[0;34m\u001b[0m\u001b[0m\n\u001b[1;32m    703\u001b[0m         \u001b[0;31m# Assume it's a string\u001b[0m\u001b[0;34m\u001b[0m\u001b[0;34m\u001b[0m\u001b[0m\n\u001b[0;32m--> 704\u001b[0;31m         \u001b[0menv_creator\u001b[0m \u001b[0;34m=\u001b[0m \u001b[0mload_env_creator\u001b[0m\u001b[0;34m(\u001b[0m\u001b[0menv_spec\u001b[0m\u001b[0;34m.\u001b[0m\u001b[0mentry_point\u001b[0m\u001b[0;34m)\u001b[0m\u001b[0;34m\u001b[0m\u001b[0;34m\u001b[0m\u001b[0m\n\u001b[0m\u001b[1;32m    705\u001b[0m \u001b[0;34m\u001b[0m\u001b[0m\n\u001b[1;32m    706\u001b[0m     \u001b[0;31m# Determine if to use the rendering\u001b[0m\u001b[0;34m\u001b[0m\u001b[0;34m\u001b[0m\u001b[0m\n",
            "\u001b[0;32m/usr/local/lib/python3.11/dist-packages/gymnasium/envs/registration.py\u001b[0m in \u001b[0;36mload_env_creator\u001b[0;34m(name)\u001b[0m\n\u001b[1;32m    549\u001b[0m     \"\"\"\n\u001b[1;32m    550\u001b[0m     \u001b[0mmod_name\u001b[0m\u001b[0;34m,\u001b[0m \u001b[0mattr_name\u001b[0m \u001b[0;34m=\u001b[0m \u001b[0mname\u001b[0m\u001b[0;34m.\u001b[0m\u001b[0msplit\u001b[0m\u001b[0;34m(\u001b[0m\u001b[0;34m\":\"\u001b[0m\u001b[0;34m)\u001b[0m\u001b[0;34m\u001b[0m\u001b[0;34m\u001b[0m\u001b[0m\n\u001b[0;32m--> 551\u001b[0;31m     \u001b[0mmod\u001b[0m \u001b[0;34m=\u001b[0m \u001b[0mimportlib\u001b[0m\u001b[0;34m.\u001b[0m\u001b[0mimport_module\u001b[0m\u001b[0;34m(\u001b[0m\u001b[0mmod_name\u001b[0m\u001b[0;34m)\u001b[0m\u001b[0;34m\u001b[0m\u001b[0;34m\u001b[0m\u001b[0m\n\u001b[0m\u001b[1;32m    552\u001b[0m     \u001b[0mfn\u001b[0m \u001b[0;34m=\u001b[0m \u001b[0mgetattr\u001b[0m\u001b[0;34m(\u001b[0m\u001b[0mmod\u001b[0m\u001b[0;34m,\u001b[0m \u001b[0mattr_name\u001b[0m\u001b[0;34m)\u001b[0m\u001b[0;34m\u001b[0m\u001b[0;34m\u001b[0m\u001b[0m\n\u001b[1;32m    553\u001b[0m     \u001b[0;32mreturn\u001b[0m \u001b[0mfn\u001b[0m\u001b[0;34m\u001b[0m\u001b[0;34m\u001b[0m\u001b[0m\n",
            "\u001b[0;32m/usr/lib/python3.11/importlib/__init__.py\u001b[0m in \u001b[0;36mimport_module\u001b[0;34m(name, package)\u001b[0m\n\u001b[1;32m    124\u001b[0m                 \u001b[0;32mbreak\u001b[0m\u001b[0;34m\u001b[0m\u001b[0;34m\u001b[0m\u001b[0m\n\u001b[1;32m    125\u001b[0m             \u001b[0mlevel\u001b[0m \u001b[0;34m+=\u001b[0m \u001b[0;36m1\u001b[0m\u001b[0;34m\u001b[0m\u001b[0;34m\u001b[0m\u001b[0m\n\u001b[0;32m--> 126\u001b[0;31m     \u001b[0;32mreturn\u001b[0m \u001b[0m_bootstrap\u001b[0m\u001b[0;34m.\u001b[0m\u001b[0m_gcd_import\u001b[0m\u001b[0;34m(\u001b[0m\u001b[0mname\u001b[0m\u001b[0;34m[\u001b[0m\u001b[0mlevel\u001b[0m\u001b[0;34m:\u001b[0m\u001b[0;34m]\u001b[0m\u001b[0;34m,\u001b[0m \u001b[0mpackage\u001b[0m\u001b[0;34m,\u001b[0m \u001b[0mlevel\u001b[0m\u001b[0;34m)\u001b[0m\u001b[0;34m\u001b[0m\u001b[0;34m\u001b[0m\u001b[0m\n\u001b[0m\u001b[1;32m    127\u001b[0m \u001b[0;34m\u001b[0m\u001b[0m\n\u001b[1;32m    128\u001b[0m \u001b[0;34m\u001b[0m\u001b[0m\n",
            "\u001b[0;32m/usr/lib/python3.11/importlib/_bootstrap.py\u001b[0m in \u001b[0;36m_gcd_import\u001b[0;34m(name, package, level)\u001b[0m\n",
            "\u001b[0;32m/usr/lib/python3.11/importlib/_bootstrap.py\u001b[0m in \u001b[0;36m_find_and_load\u001b[0;34m(name, import_)\u001b[0m\n",
            "\u001b[0;32m/usr/lib/python3.11/importlib/_bootstrap.py\u001b[0m in \u001b[0;36m_find_and_load_unlocked\u001b[0;34m(name, import_)\u001b[0m\n",
            "\u001b[0;32m/usr/lib/python3.11/importlib/_bootstrap.py\u001b[0m in \u001b[0;36m_call_with_frames_removed\u001b[0;34m(f, *args, **kwds)\u001b[0m\n",
            "\u001b[0;32m/usr/lib/python3.11/importlib/_bootstrap.py\u001b[0m in \u001b[0;36m_gcd_import\u001b[0;34m(name, package, level)\u001b[0m\n",
            "\u001b[0;32m/usr/lib/python3.11/importlib/_bootstrap.py\u001b[0m in \u001b[0;36m_find_and_load\u001b[0;34m(name, import_)\u001b[0m\n",
            "\u001b[0;32m/usr/lib/python3.11/importlib/_bootstrap.py\u001b[0m in \u001b[0;36m_find_and_load_unlocked\u001b[0;34m(name, import_)\u001b[0m\n",
            "\u001b[0;32m/usr/lib/python3.11/importlib/_bootstrap.py\u001b[0m in \u001b[0;36m_load_unlocked\u001b[0;34m(spec)\u001b[0m\n",
            "\u001b[0;32m/usr/lib/python3.11/importlib/_bootstrap_external.py\u001b[0m in \u001b[0;36mexec_module\u001b[0;34m(self, module)\u001b[0m\n",
            "\u001b[0;32m/usr/lib/python3.11/importlib/_bootstrap.py\u001b[0m in \u001b[0;36m_call_with_frames_removed\u001b[0;34m(f, *args, **kwds)\u001b[0m\n",
            "\u001b[0;32m/usr/local/lib/python3.11/dist-packages/gymnasium/envs/box2d/__init__.py\u001b[0m in \u001b[0;36m<module>\u001b[0;34m\u001b[0m\n\u001b[0;32m----> 1\u001b[0;31m \u001b[0;32mfrom\u001b[0m \u001b[0mgymnasium\u001b[0m\u001b[0;34m.\u001b[0m\u001b[0menvs\u001b[0m\u001b[0;34m.\u001b[0m\u001b[0mbox2d\u001b[0m\u001b[0;34m.\u001b[0m\u001b[0mbipedal_walker\u001b[0m \u001b[0;32mimport\u001b[0m \u001b[0mBipedalWalker\u001b[0m\u001b[0;34m,\u001b[0m \u001b[0mBipedalWalkerHardcore\u001b[0m\u001b[0;34m\u001b[0m\u001b[0;34m\u001b[0m\u001b[0m\n\u001b[0m\u001b[1;32m      2\u001b[0m \u001b[0;32mfrom\u001b[0m \u001b[0mgymnasium\u001b[0m\u001b[0;34m.\u001b[0m\u001b[0menvs\u001b[0m\u001b[0;34m.\u001b[0m\u001b[0mbox2d\u001b[0m\u001b[0;34m.\u001b[0m\u001b[0mcar_racing\u001b[0m \u001b[0;32mimport\u001b[0m \u001b[0mCarRacing\u001b[0m\u001b[0;34m\u001b[0m\u001b[0;34m\u001b[0m\u001b[0m\n\u001b[1;32m      3\u001b[0m \u001b[0;32mfrom\u001b[0m \u001b[0mgymnasium\u001b[0m\u001b[0;34m.\u001b[0m\u001b[0menvs\u001b[0m\u001b[0;34m.\u001b[0m\u001b[0mbox2d\u001b[0m\u001b[0;34m.\u001b[0m\u001b[0mlunar_lander\u001b[0m \u001b[0;32mimport\u001b[0m \u001b[0mLunarLander\u001b[0m\u001b[0;34m,\u001b[0m \u001b[0mLunarLanderContinuous\u001b[0m\u001b[0;34m\u001b[0m\u001b[0;34m\u001b[0m\u001b[0m\n",
            "\u001b[0;32m/usr/local/lib/python3.11/dist-packages/gymnasium/envs/box2d/bipedal_walker.py\u001b[0m in \u001b[0;36m<module>\u001b[0;34m\u001b[0m\n\u001b[1;32m     23\u001b[0m     )\n\u001b[1;32m     24\u001b[0m \u001b[0;32mexcept\u001b[0m \u001b[0mImportError\u001b[0m \u001b[0;32mas\u001b[0m \u001b[0me\u001b[0m\u001b[0;34m:\u001b[0m\u001b[0;34m\u001b[0m\u001b[0;34m\u001b[0m\u001b[0m\n\u001b[0;32m---> 25\u001b[0;31m     raise DependencyNotInstalled(\n\u001b[0m\u001b[1;32m     26\u001b[0m         \u001b[0;34m'Box2D is not installed, you can install it by run `pip install swig` followed by `pip install \"gymnasium[box2d]\"`'\u001b[0m\u001b[0;34m\u001b[0m\u001b[0;34m\u001b[0m\u001b[0m\n\u001b[1;32m     27\u001b[0m     ) from e\n",
            "\u001b[0;31mDependencyNotInstalled\u001b[0m: Box2D is not installed, you can install it by run `pip install swig` followed by `pip install \"gymnasium[box2d]\"`"
          ]
        }
      ]
    },
    {
      "cell_type": "code",
      "source": [
        "!apt-get install swig"
      ],
      "metadata": {
        "colab": {
          "base_uri": "https://localhost:8080/"
        },
        "id": "s3Xu5gAbwtpo",
        "outputId": "956d88f1-afc8-4a36-f990-816121765fd4"
      },
      "execution_count": null,
      "outputs": [
        {
          "output_type": "stream",
          "name": "stdout",
          "text": [
            "Reading package lists... Done\n",
            "Building dependency tree... Done\n",
            "Reading state information... Done\n",
            "The following additional packages will be installed:\n",
            "  swig4.0\n",
            "Suggested packages:\n",
            "  swig-doc swig-examples swig4.0-examples swig4.0-doc\n",
            "The following NEW packages will be installed:\n",
            "  swig swig4.0\n",
            "0 upgraded, 2 newly installed, 0 to remove and 34 not upgraded.\n",
            "Need to get 1,116 kB of archives.\n",
            "After this operation, 5,542 kB of additional disk space will be used.\n",
            "Get:1 http://archive.ubuntu.com/ubuntu jammy/universe amd64 swig4.0 amd64 4.0.2-1ubuntu1 [1,110 kB]\n",
            "Get:2 http://archive.ubuntu.com/ubuntu jammy/universe amd64 swig all 4.0.2-1ubuntu1 [5,632 B]\n",
            "Fetched 1,116 kB in 1s (1,456 kB/s)\n",
            "Selecting previously unselected package swig4.0.\n",
            "(Reading database ... 126102 files and directories currently installed.)\n",
            "Preparing to unpack .../swig4.0_4.0.2-1ubuntu1_amd64.deb ...\n",
            "Unpacking swig4.0 (4.0.2-1ubuntu1) ...\n",
            "Selecting previously unselected package swig.\n",
            "Preparing to unpack .../swig_4.0.2-1ubuntu1_all.deb ...\n",
            "Unpacking swig (4.0.2-1ubuntu1) ...\n",
            "Setting up swig4.0 (4.0.2-1ubuntu1) ...\n",
            "Setting up swig (4.0.2-1ubuntu1) ...\n",
            "Processing triggers for man-db (2.10.2-1) ...\n"
          ]
        }
      ]
    },
    {
      "cell_type": "code",
      "source": [
        "!pip install \"gymnasium[box2d]\""
      ],
      "metadata": {
        "colab": {
          "base_uri": "https://localhost:8080/"
        },
        "id": "A_gE6HYzwtsx",
        "outputId": "e70f6d8e-cbe4-4e77-ca72-2546366e56c6"
      },
      "execution_count": null,
      "outputs": [
        {
          "output_type": "stream",
          "name": "stdout",
          "text": [
            "Requirement already satisfied: gymnasium[box2d] in /usr/local/lib/python3.11/dist-packages (1.1.1)\n",
            "Requirement already satisfied: numpy>=1.21.0 in /usr/local/lib/python3.11/dist-packages (from gymnasium[box2d]) (2.0.2)\n",
            "Requirement already satisfied: cloudpickle>=1.2.0 in /usr/local/lib/python3.11/dist-packages (from gymnasium[box2d]) (3.1.1)\n",
            "Requirement already satisfied: typing-extensions>=4.3.0 in /usr/local/lib/python3.11/dist-packages (from gymnasium[box2d]) (4.13.2)\n",
            "Requirement already satisfied: farama-notifications>=0.0.1 in /usr/local/lib/python3.11/dist-packages (from gymnasium[box2d]) (0.0.4)\n",
            "Collecting box2d-py==2.3.5 (from gymnasium[box2d])\n",
            "  Downloading box2d-py-2.3.5.tar.gz (374 kB)\n",
            "  Preparing metadata (setup.py) ... \u001b[?25l\u001b[?25hdone\n",
            "Requirement already satisfied: pygame>=2.1.3 in /usr/local/lib/python3.11/dist-packages (from gymnasium[box2d]) (2.6.1)\n",
            "Collecting swig==4.* (from gymnasium[box2d])\n",
            "  Downloading swig-4.3.1-py3-none-manylinux_2_12_x86_64.manylinux2010_x86_64.whl.metadata (3.5 kB)\n",
            "Downloading swig-4.3.1-py3-none-manylinux_2_12_x86_64.manylinux2010_x86_64.whl (1.9 MB)\n",
            "\u001b[2K   \u001b[90m━━━━━━━━━━━━━━━━━━━━━━━━━━━━━━━━━━━━━━━━\u001b[0m \u001b[32m1.9/1.9 MB\u001b[0m \u001b[31m77.3 MB/s\u001b[0m eta \u001b[36m0:00:00\u001b[0m\n",
            "\u001b[?25hBuilding wheels for collected packages: box2d-py\n",
            "\u001b[33m  DEPRECATION: Building 'box2d-py' using the legacy setup.py bdist_wheel mechanism, which will be removed in a future version. pip 25.3 will enforce this behaviour change. A possible replacement is to use the standardized build interface by setting the `--use-pep517` option, (possibly combined with `--no-build-isolation`), or adding a `pyproject.toml` file to the source tree of 'box2d-py'. Discussion can be found at https://github.com/pypa/pip/issues/6334\u001b[0m\u001b[33m\n",
            "\u001b[0m  Building wheel for box2d-py (setup.py) ... \u001b[?25l\u001b[?25hdone\n",
            "  Created wheel for box2d-py: filename=box2d_py-2.3.5-cp311-cp311-linux_x86_64.whl size=2351252 sha256=090e83f99c9ac5f1b3d751a7ed9a02ebcdca173af9260b889ae55cf43044272c\n",
            "  Stored in directory: /root/.cache/pip/wheels/ab/f1/0c/d56f4a2bdd12bae0a0693ec33f2f0daadb5eb9753c78fa5308\n",
            "Successfully built box2d-py\n",
            "Installing collected packages: swig, box2d-py\n",
            "\u001b[2K   \u001b[90m━━━━━━━━━━━━━━━━━━━━━━━━━━━━━━━━━━━━━━━━\u001b[0m \u001b[32m2/2\u001b[0m [box2d-py]\n",
            "\u001b[1A\u001b[2KSuccessfully installed box2d-py-2.3.5 swig-4.3.1\n"
          ]
        }
      ]
    },
    {
      "cell_type": "code",
      "source": [
        "import gymnasium as gym\n",
        "\n",
        "env = gym.make(\"LunarLander-v3\", render_mode=\"rgb_array\")\n",
        "obs, info = env.reset()\n",
        "print(\"Box2D environment loaded successfully!\")"
      ],
      "metadata": {
        "colab": {
          "base_uri": "https://localhost:8080/"
        },
        "id": "th7pnkVWwtvx",
        "outputId": "cd2b597b-aed9-4626-e7de-42c9ce7fde22"
      },
      "execution_count": null,
      "outputs": [
        {
          "output_type": "stream",
          "name": "stdout",
          "text": [
            "Box2D environment loaded successfully!\n"
          ]
        }
      ]
    },
    {
      "cell_type": "code",
      "source": [
        "!apt-get install -y swig\n",
        "!pip install \"gymnasium[box2d]\" moviepy"
      ],
      "metadata": {
        "colab": {
          "base_uri": "https://localhost:8080/"
        },
        "id": "Rtyo4wCQwtzJ",
        "outputId": "edb58ebe-2a28-4cc7-dbfb-d2bbd418ad06"
      },
      "execution_count": null,
      "outputs": [
        {
          "output_type": "stream",
          "name": "stdout",
          "text": [
            "Reading package lists... Done\n",
            "Building dependency tree... Done\n",
            "Reading state information... Done\n",
            "swig is already the newest version (4.0.2-1ubuntu1).\n",
            "0 upgraded, 0 newly installed, 0 to remove and 34 not upgraded.\n",
            "Requirement already satisfied: moviepy in /usr/local/lib/python3.11/dist-packages (1.0.3)\n",
            "Requirement already satisfied: gymnasium[box2d] in /usr/local/lib/python3.11/dist-packages (1.1.1)\n",
            "Requirement already satisfied: numpy>=1.21.0 in /usr/local/lib/python3.11/dist-packages (from gymnasium[box2d]) (2.0.2)\n",
            "Requirement already satisfied: cloudpickle>=1.2.0 in /usr/local/lib/python3.11/dist-packages (from gymnasium[box2d]) (3.1.1)\n",
            "Requirement already satisfied: typing-extensions>=4.3.0 in /usr/local/lib/python3.11/dist-packages (from gymnasium[box2d]) (4.13.2)\n",
            "Requirement already satisfied: farama-notifications>=0.0.1 in /usr/local/lib/python3.11/dist-packages (from gymnasium[box2d]) (0.0.4)\n",
            "Requirement already satisfied: box2d-py==2.3.5 in /usr/local/lib/python3.11/dist-packages (from gymnasium[box2d]) (2.3.5)\n",
            "Requirement already satisfied: pygame>=2.1.3 in /usr/local/lib/python3.11/dist-packages (from gymnasium[box2d]) (2.6.1)\n",
            "Requirement already satisfied: swig==4.* in /usr/local/lib/python3.11/dist-packages (from gymnasium[box2d]) (4.3.1)\n",
            "Requirement already satisfied: decorator<5.0,>=4.0.2 in /usr/local/lib/python3.11/dist-packages (from moviepy) (4.4.2)\n",
            "Requirement already satisfied: tqdm<5.0,>=4.11.2 in /usr/local/lib/python3.11/dist-packages (from moviepy) (4.67.1)\n",
            "Requirement already satisfied: requests<3.0,>=2.8.1 in /usr/local/lib/python3.11/dist-packages (from moviepy) (2.32.3)\n",
            "Requirement already satisfied: proglog<=1.0.0 in /usr/local/lib/python3.11/dist-packages (from moviepy) (0.1.12)\n",
            "Requirement already satisfied: imageio<3.0,>=2.5 in /usr/local/lib/python3.11/dist-packages (from moviepy) (2.37.0)\n",
            "Requirement already satisfied: imageio-ffmpeg>=0.2.0 in /usr/local/lib/python3.11/dist-packages (from moviepy) (0.6.0)\n",
            "Requirement already satisfied: pillow>=8.3.2 in /usr/local/lib/python3.11/dist-packages (from imageio<3.0,>=2.5->moviepy) (11.2.1)\n",
            "Requirement already satisfied: charset-normalizer<4,>=2 in /usr/local/lib/python3.11/dist-packages (from requests<3.0,>=2.8.1->moviepy) (3.4.2)\n",
            "Requirement already satisfied: idna<4,>=2.5 in /usr/local/lib/python3.11/dist-packages (from requests<3.0,>=2.8.1->moviepy) (3.10)\n",
            "Requirement already satisfied: urllib3<3,>=1.21.1 in /usr/local/lib/python3.11/dist-packages (from requests<3.0,>=2.8.1->moviepy) (2.4.0)\n",
            "Requirement already satisfied: certifi>=2017.4.17 in /usr/local/lib/python3.11/dist-packages (from requests<3.0,>=2.8.1->moviepy) (2025.4.26)\n"
          ]
        }
      ]
    },
    {
      "cell_type": "code",
      "source": [
        "import gymnasium as gym\n",
        "import imageio\n",
        "import numpy as np\n",
        "\n",
        "env = gym.make(\"Taxi-v3\", render_mode=\"rgb_array\")\n",
        "frames = []\n",
        "\n",
        "obs, info = env.reset()\n",
        "done = False\n",
        "\n",
        "for _ in range(30000):\n",
        "    frames.append(env.render())\n",
        "    action = env.action_space.sample()\n",
        "    obs, reward, terminated, truncated, info = env.step(action)\n",
        "    done = terminated or truncated\n",
        "    if done:\n",
        "        break\n",
        "\n",
        "env.close()\n"
      ],
      "metadata": {
        "id": "Q8dXHCJ9wt2A"
      },
      "execution_count": null,
      "outputs": []
    },
    {
      "cell_type": "code",
      "source": [
        "video_path = \"/content/car_racing_video.mp4\"\n",
        "imageio.mimsave(video_path, frames, fps=90)\n",
        "from IPython.display import HTML\n",
        "from base64 import b64encode\n",
        "mp4 = open(video_path, 'rb').read()\n",
        "data_url = \"data:video/mp4;base64,\" + b64encode(mp4).decode()\n",
        "HTML(f\"\"\"<video width=640 controls><source src=\"{data_url}\" type=\"video/mp4\"></video>\"\"\")\n"
      ],
      "metadata": {
        "colab": {
          "base_uri": "https://localhost:8080/",
          "height": 461
        },
        "id": "xA9OAcK_wt5C",
        "outputId": "4fac6efe-584d-4888-cd86-009e08ca5636"
      },
      "execution_count": null,
      "outputs": [
        {
          "output_type": "stream",
          "name": "stderr",
          "text": [
            "WARNING:imageio_ffmpeg:IMAGEIO FFMPEG_WRITER WARNING: input image is not divisible by macro_block_size=16, resizing from (550, 350) to (560, 352) to ensure video compatibility with most codecs and players. To prevent resizing, make your input image divisible by the macro_block_size or set the macro_block_size to 1 (risking incompatibility).\n"
          ]
        },
        {
          "output_type": "execute_result",
          "data": {
            "text/plain": [
              "<IPython.core.display.HTML object>"
            ],
            "text/html": [
              "<video width=640 controls><source src=\"data:video/mp4;base64,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\" type=\"video/mp4\"></video>"
            ]
          },
          "metadata": {},
          "execution_count": 28
        }
      ]
    },
    {
      "cell_type": "code",
      "source": [],
      "metadata": {
        "id": "XgIsu9EWwt78"
      },
      "execution_count": null,
      "outputs": []
    },
    {
      "cell_type": "code",
      "source": [],
      "metadata": {
        "id": "z7aQ7611wt-0"
      },
      "execution_count": null,
      "outputs": []
    },
    {
      "cell_type": "code",
      "source": [],
      "metadata": {
        "id": "CHlK_N2twuB2"
      },
      "execution_count": null,
      "outputs": []
    },
    {
      "cell_type": "code",
      "source": [],
      "metadata": {
        "id": "rOwGFSKewuEy"
      },
      "execution_count": null,
      "outputs": []
    },
    {
      "cell_type": "code",
      "source": [],
      "metadata": {
        "id": "SxXC3VglwuHt"
      },
      "execution_count": null,
      "outputs": []
    },
    {
      "cell_type": "code",
      "source": [],
      "metadata": {
        "id": "n7NrIoDawuKT"
      },
      "execution_count": null,
      "outputs": []
    },
    {
      "cell_type": "code",
      "source": [],
      "metadata": {
        "id": "4ev2UVhswuNK"
      },
      "execution_count": null,
      "outputs": []
    },
    {
      "cell_type": "code",
      "source": [],
      "metadata": {
        "id": "XVBBjZeEwuQC"
      },
      "execution_count": null,
      "outputs": []
    },
    {
      "cell_type": "code",
      "source": [],
      "metadata": {
        "id": "IzP7dUeBwuS_"
      },
      "execution_count": null,
      "outputs": []
    },
    {
      "cell_type": "code",
      "source": [],
      "metadata": {
        "id": "ocy2Z4_YwuV_"
      },
      "execution_count": null,
      "outputs": []
    },
    {
      "cell_type": "code",
      "source": [],
      "metadata": {
        "id": "Z-QjLp2nwuYy"
      },
      "execution_count": null,
      "outputs": []
    },
    {
      "cell_type": "code",
      "source": [],
      "metadata": {
        "id": "quH2ptHIwubt"
      },
      "execution_count": null,
      "outputs": []
    },
    {
      "cell_type": "code",
      "source": [],
      "metadata": {
        "id": "sIfYHCBywuet"
      },
      "execution_count": null,
      "outputs": []
    },
    {
      "cell_type": "code",
      "source": [],
      "metadata": {
        "id": "WyP08mDgwuht"
      },
      "execution_count": null,
      "outputs": []
    },
    {
      "cell_type": "code",
      "source": [],
      "metadata": {
        "id": "TrOlq77Cwuk1"
      },
      "execution_count": null,
      "outputs": []
    },
    {
      "cell_type": "code",
      "source": [],
      "metadata": {
        "id": "pS7yx3eNwuoM"
      },
      "execution_count": null,
      "outputs": []
    },
    {
      "cell_type": "code",
      "source": [],
      "metadata": {
        "id": "rhLqdh44wurF"
      },
      "execution_count": null,
      "outputs": []
    },
    {
      "cell_type": "code",
      "source": [],
      "metadata": {
        "id": "sq2Z_wGCwuuG"
      },
      "execution_count": null,
      "outputs": []
    },
    {
      "cell_type": "code",
      "source": [],
      "metadata": {
        "id": "f5YUXmGNwuxA"
      },
      "execution_count": null,
      "outputs": []
    },
    {
      "cell_type": "code",
      "source": [],
      "metadata": {
        "id": "DDNlDkhHwuz6"
      },
      "execution_count": null,
      "outputs": []
    },
    {
      "cell_type": "code",
      "source": [],
      "metadata": {
        "id": "7Ia-HpdAwu2s"
      },
      "execution_count": null,
      "outputs": []
    },
    {
      "cell_type": "code",
      "source": [],
      "metadata": {
        "id": "ukhyIhA1wu5W"
      },
      "execution_count": null,
      "outputs": []
    },
    {
      "cell_type": "code",
      "source": [],
      "metadata": {
        "id": "dA9D-VTuwu8N"
      },
      "execution_count": null,
      "outputs": []
    },
    {
      "cell_type": "code",
      "source": [],
      "metadata": {
        "id": "VS-7MDt7wu--"
      },
      "execution_count": null,
      "outputs": []
    },
    {
      "cell_type": "code",
      "source": [],
      "metadata": {
        "id": "fxf9NWXhwvBo"
      },
      "execution_count": null,
      "outputs": []
    },
    {
      "cell_type": "code",
      "source": [],
      "metadata": {
        "id": "BB6vwDbhwvEg"
      },
      "execution_count": null,
      "outputs": []
    },
    {
      "cell_type": "code",
      "source": [],
      "metadata": {
        "id": "eJbsN-TpwvHt"
      },
      "execution_count": null,
      "outputs": []
    },
    {
      "cell_type": "code",
      "source": [],
      "metadata": {
        "id": "B8fKVJihwvKz"
      },
      "execution_count": null,
      "outputs": []
    },
    {
      "cell_type": "code",
      "source": [],
      "metadata": {
        "id": "zGdNgZLtwvNs"
      },
      "execution_count": null,
      "outputs": []
    },
    {
      "cell_type": "code",
      "source": [],
      "metadata": {
        "id": "BTbywQ_zwvQU"
      },
      "execution_count": null,
      "outputs": []
    },
    {
      "cell_type": "code",
      "source": [],
      "metadata": {
        "id": "pEdvfscQwvTQ"
      },
      "execution_count": null,
      "outputs": []
    },
    {
      "cell_type": "code",
      "source": [],
      "metadata": {
        "id": "eHw2AriIwvVl"
      },
      "execution_count": null,
      "outputs": []
    },
    {
      "cell_type": "code",
      "source": [],
      "metadata": {
        "id": "m4TYY1DJwvZA"
      },
      "execution_count": null,
      "outputs": []
    }
  ]
}